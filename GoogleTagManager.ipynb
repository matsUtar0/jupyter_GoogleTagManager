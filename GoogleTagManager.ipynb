{
 "cells": [
  {
   "cell_type": "code",
   "execution_count": 2,
   "metadata": {},
   "outputs": [],
   "source": [
    "#Pandasをインポート\n",
    "import pandas as pd\n",
    "\n",
    "# JSONファイルの読み込み\n",
    "df = pd.read_json(\"GTM.json\")"
   ]
  },
  {
   "cell_type": "markdown",
   "metadata": {},
   "source": [
    "## タグの取得"
   ]
  },
  {
   "cell_type": "code",
   "execution_count": 4,
   "metadata": {},
   "outputs": [],
   "source": [
    "# JSONファイルの中身\n",
    "# df"
   ]
  },
  {
   "cell_type": "code",
   "execution_count": 3,
   "metadata": {},
   "outputs": [],
   "source": [
    "# タグの情報のみのデータフレーム（欠損値を0に変換）\n",
    "dftag = pd.DataFrame(df.loc['tag','containerVersion'])\n",
    "dftag = dftag.fillna(0)"
   ]
  },
  {
   "cell_type": "code",
   "execution_count": 5,
   "metadata": {},
   "outputs": [],
   "source": [
    "# 空のデータフレームを定義\n",
    "dfms = pd.DataFrame()\n",
    "\n",
    "# 優先度、パラメーターを取得\n",
    "for index, row in dftag.iterrows():\n",
    "    # タグIDの取得\n",
    "    tagId = dftag.loc[index,'tagId']\n",
    "\n",
    "    # 優先度の取得\n",
    "    if dftag.loc[index,'priority'] == 0:\n",
    "        priority = 0\n",
    "    else:\n",
    "        priority = dftag.loc[index,'priority']['value']\n",
    "    \n",
    "    # パラメーターの中身をDataFrameに変換\n",
    "    dfparam = pd.DataFrame(dftag.loc[index,'parameter'])\n",
    "\n",
    "    # アカウントIDを付与\n",
    "    dfparam['tagId'] = [tagId] * len(dfparam.index)\n",
    "    dfparam['priority'] = [priority] * len(dfparam.index)\n",
    "    dfms = dfms.append(dfparam)"
   ]
  },
  {
   "cell_type": "code",
   "execution_count": 6,
   "metadata": {
    "scrolled": true
   },
   "outputs": [],
   "source": [
    "# tagIdをキーにデータフレームをマージ\n",
    "tag_merge = pd.merge(dfms,dftag, on='tagId')"
   ]
  },
  {
   "cell_type": "code",
   "execution_count": 7,
   "metadata": {},
   "outputs": [],
   "source": [
    "# 必要な箇所のみを取り出し\n",
    "tag_merge = tag_merge.loc[:,['tagId','name','paused','firingTriggerId','blockingTriggerId','tagFiringOption','priority_x','key','value']]"
   ]
  },
  {
   "cell_type": "markdown",
   "metadata": {},
   "source": [
    "## トリガーの取得"
   ]
  },
  {
   "cell_type": "code",
   "execution_count": 10,
   "metadata": {},
   "outputs": [],
   "source": [
    "dftrg = pd.DataFrame(df.loc['trigger','containerVersion'])"
   ]
  },
  {
   "cell_type": "code",
   "execution_count": 11,
   "metadata": {},
   "outputs": [],
   "source": [
    "dffilter = pd.DataFrame(dftrg.loc[4,'filter'])"
   ]
  },
  {
   "cell_type": "code",
   "execution_count": 12,
   "metadata": {},
   "outputs": [],
   "source": [
    "dffilparam = pd.DataFrame(dffilter.loc[0,'parameter'])"
   ]
  },
  {
   "cell_type": "markdown",
   "metadata": {},
   "source": [
    "## 変数の取得"
   ]
  },
  {
   "cell_type": "code",
   "execution_count": 13,
   "metadata": {},
   "outputs": [],
   "source": [
    "dfval = pd.DataFrame(df.loc['variable','containerVersion'])"
   ]
  },
  {
   "cell_type": "code",
   "execution_count": 14,
   "metadata": {},
   "outputs": [],
   "source": [
    "dfvalparam = pd.DataFrame(dfval.loc[0,'parameter'])"
   ]
  },
  {
   "cell_type": "code",
   "execution_count": null,
   "metadata": {},
   "outputs": [],
   "source": []
  }
 ],
 "metadata": {
  "kernelspec": {
   "display_name": "Python 3",
   "language": "python",
   "name": "python3"
  },
  "language_info": {
   "codemirror_mode": {
    "name": "ipython",
    "version": 3
   },
   "file_extension": ".py",
   "mimetype": "text/x-python",
   "name": "python",
   "nbconvert_exporter": "python",
   "pygments_lexer": "ipython3",
   "version": "3.6.4"
  }
 },
 "nbformat": 4,
 "nbformat_minor": 2
}
